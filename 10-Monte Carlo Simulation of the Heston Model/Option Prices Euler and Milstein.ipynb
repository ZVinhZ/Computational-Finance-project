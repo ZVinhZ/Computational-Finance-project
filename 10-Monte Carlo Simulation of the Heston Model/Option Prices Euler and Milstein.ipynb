{
 "cells": [
  {
   "cell_type": "markdown",
   "id": "262b1ca4",
   "metadata": {},
   "source": [
    "# Convergence of Option Prices for Euler and Milstein schemes"
   ]
  },
  {
   "cell_type": "code",
   "execution_count": 1,
   "id": "26335a7d",
   "metadata": {},
   "outputs": [],
   "source": [
    "import numpy as np\n",
    "import scipy.stats as st\n",
    "import enum "
   ]
  },
  {
   "cell_type": "code",
   "execution_count": 2,
   "id": "de3780c4",
   "metadata": {},
   "outputs": [
    {
     "name": "stderr",
     "output_type": "stream",
     "text": [
      "C:\\Users\\NGUYEN Xuan Vinh\\AppData\\Local\\Temp\\ipykernel_15984\\2846821264.py:2: DeprecationWarning: `np.complex` is a deprecated alias for the builtin `complex`. To silence this warning, use `complex` by itself. Doing this will not modify any behavior and is safe. If you specifically wanted the numpy scalar type, use `np.complex128` here.\n",
      "Deprecated in NumPy 1.20; for more details and guidance: https://numpy.org/devdocs/release/1.20.0-notes.html#deprecations\n",
      "  i   = np.complex(0.0,1.0)\n"
     ]
    }
   ],
   "source": [
    "# set i = imaginary number\n",
    "i   = np.complex(0.0,1.0)\n",
    "\n",
    "# This class defines puts and calls\n",
    "class OptionType(enum.Enum):\n",
    "    CALL = 1.0\n",
    "    PUT = -1.0"
   ]
  },
  {
   "cell_type": "code",
   "execution_count": 3,
   "id": "16a56b45",
   "metadata": {},
   "outputs": [],
   "source": [
    "# Black-Scholes Call option price\n",
    "def BS_Call_Option_Price(CP, S_0, K, sigma, tau, r):\n",
    "    \n",
    "    # For many strikes\n",
    "    K = np.array(K).reshape([len(K),1])\n",
    "    \n",
    "    d1    = (np.log(S_0 / K) + (r + 0.5 * np.power(sigma,2.0)) * tau) / float(sigma * np.sqrt(tau))\n",
    "    d2    = d1 - sigma * np.sqrt(tau)\n",
    "    \n",
    "    if CP == OptionType.CALL:\n",
    "        value = st.norm.cdf(d1) * S_0 - st.norm.cdf(d2) * K * np.exp(-r * tau)\n",
    "    elif CP == OptionType.PUT:\n",
    "        value = st.norm.cdf(-d2) * K * np.exp(-r * tau) - st.norm.cdf(-d1)*S_0\n",
    "    return value"
   ]
  },
  {
   "cell_type": "code",
   "execution_count": 4,
   "id": "04ce246b",
   "metadata": {},
   "outputs": [],
   "source": [
    "def GeneratePathsGBMEuler(NoOfPaths,NoOfSteps,T,r,sigma,S_0):    \n",
    "    Z = np.random.normal(0.0, 1.0, [NoOfPaths,NoOfSteps])\n",
    "    W = np.zeros([NoOfPaths, NoOfSteps + 1])\n",
    "   \n",
    "    # Euler Approximation\n",
    "    S1 = np.zeros([NoOfPaths, NoOfSteps+1])\n",
    "    S1[:,0] = S_0\n",
    "    \n",
    "    time = np.zeros([NoOfSteps+1])\n",
    "        \n",
    "    dt = T / float(NoOfSteps)\n",
    "    \n",
    "    for i in range(0,NoOfSteps):\n",
    "        # making sure that samples from normal have mean 0 and variance 1\n",
    "        if NoOfPaths > 1:\n",
    "            Z[:,i] = (Z[:,i] - np.mean(Z[:,i])) / np.std(Z[:,i])\n",
    "        W[:,i+1] = W[:,i] + np.power(dt, 0.5)*Z[:,i]\n",
    "        \n",
    "        S1[:,i+1] = S1[:,i] + r * S1[:,i]* dt + sigma * S1[:,i] * (W[:,i+1] - W[:,i])\n",
    "        time[i+1] = time[i] + dt\n",
    "        \n",
    "    # Retun S1 and S2\n",
    "    paths = {\"time\":time,\"S\":S1}\n",
    "    return paths\n"
   ]
  },
  {
   "cell_type": "code",
   "execution_count": 5,
   "id": "cc6ede4d",
   "metadata": {},
   "outputs": [],
   "source": [
    "def BS_Cash_Or_Nothing_Price(CP, S_0, K, sigma, tau, r):\n",
    "        #Black-Scholes for cash or nothing option\n",
    "        K = np.array(K).reshape([len(K),1])\n",
    "    \n",
    "        d1    = (np.log(S_0 / K) + (r + 0.5 * np.power(sigma,2.0)) * tau) / float(sigma * np.sqrt(tau))\n",
    "        d2    = d1 - sigma * np.sqrt(tau)\n",
    "        \n",
    "        if CP == OptionType.CALL:\n",
    "            value = K * np.exp(-r * tau) * st.norm.cdf(d2)\n",
    "        if CP == OptionType.PUT:\n",
    "            value = K * np.exp(-r * tau) *(1.0 - st.norm.cdf(d2))\n",
    "    return value"
   ]
  },
  {
   "cell_type": "code",
   "execution_count": 6,
   "id": "decd4052",
   "metadata": {},
   "outputs": [],
   "source": [
    "def GeneratePathsGBMMilstein(NoOfPaths, NoOfSteps, T, r, sigma, S_0):    \n",
    "    Z = np.random.normal(0.0,1.0,[NoOfPaths,NoOfSteps])\n",
    "    W = np.zeros([NoOfPaths, NoOfSteps+1])\n",
    "   \n",
    "    # Milstein Approximation\n",
    "    S1 = np.zeros([NoOfPaths, NoOfSteps+1])\n",
    "    S1[:,0] = S_0\n",
    "       \n",
    "    time = np.zeros([NoOfSteps+1])\n",
    "        \n",
    "    dt = T / float(NoOfSteps)\n",
    "    for i in range(0,NoOfSteps):\n",
    "        # making sure that samples from normal have mean 0 and variance 1\n",
    "        if NoOfPaths > 1:\n",
    "            Z[:,i] = (Z[:,i] - np.mean(Z[:,i])) / np.std(Z[:,i])\n",
    "        W[:,i+1] = W[:,i] + np.power(dt, 0.5)*Z[:,i]\n",
    "        \n",
    "        S1[:,i+1] = S1[:,i] + r * S1[:,i]* dt + sigma * S1[:,i] * (W[:,i+1] - W[:,i]) \\\n",
    "        + 0.5 * sigma **2.0 * S1[:,i] * (np.power((W[:,i+1] - W[:,i]),2) - dt)\n",
    "        \n",
    "        time[i+1] = time[i] +dt\n",
    "        \n",
    "    # Retun S1 and S2\n",
    "    paths = {\"time\":time,\"S\":S1}\n",
    "    return paths"
   ]
  },
  {
   "cell_type": "code",
   "execution_count": 7,
   "id": "ebdf8446",
   "metadata": {},
   "outputs": [],
   "source": [
    "def EUOptionPriceFromMCPaths(CP, S, K, T, r):\n",
    "    # S is a vector of Monte Carlo samples at T\n",
    "    if CP == OptionType.CALL:\n",
    "        return np.exp(-r*T)*np.mean(np.maximum(S-K,0.0))\n",
    "    elif CP == OptionType.PUT:\n",
    "        return np.exp(-r*T)*np.mean(np.maximum(K-S,0.0))\n"
   ]
  },
  {
   "cell_type": "code",
   "execution_count": 8,
   "id": "bab32460",
   "metadata": {},
   "outputs": [],
   "source": [
    "def CashofNothingPriceFromMCPaths(CP,S,K,T,r):\n",
    "    # S is a vector of Monte Carlo samples at T\n",
    "    if CP == OptionType.CALL:\n",
    "        return np.exp(-r*T)*K*np.mean((S>K))\n",
    "    elif CP == OptionType.PUT:\n",
    "        return np.exp(-r*T)*K*np.mean((S<=K))"
   ]
  },
  {
   "cell_type": "code",
   "execution_count": 16,
   "id": "ed7315b0",
   "metadata": {},
   "outputs": [],
   "source": [
    "def mainCalculation():\n",
    "    CP = OptionType.CALL\n",
    "    T  = 1\n",
    "    r  = 0.06\n",
    "    sigma = 0.3\n",
    "    S_0 = 5\n",
    "    K = [S_0]\n",
    "    NoOfSteps = 1000\n",
    "    \n",
    "    # Simulated paths\n",
    "    NoOfPathsV = [100, 1000, 5000, 10000]\n",
    "    \n",
    "    # Call Price\n",
    "    exactPrice = BS_Call_Option_Price(CP, S_0, K, sigma, T, r)[0]\n",
    "    \n",
    "    print(\"EUROPEAN OPTION PRICING\")\n",
    "    print(\"Exact option price = {0}\".format(exactPrice))\n",
    "    \n",
    "    for NoOfPathsTemp in NoOfPathsV:\n",
    "        np.random.seed(1)\n",
    "        PathsEuler = GeneratePathsGBMEuler(NoOfPathsTemp, NoOfSteps, T, r, sigma, S_0)\n",
    "        np.random.seed(1)\n",
    "        PathsMilstein = GeneratePathsGBMMilstein(NoOfPathsTemp, NoOfSteps, T, r, sigma, S_0)\n",
    "        S_Euler = PathsEuler[\"S\"]\n",
    "        S_Milstein = PathsMilstein[\"S\"]\n",
    "        priceEuler = EUOptionPriceFromMCPaths(CP, S_Euler[:,-1], K, T, r)\n",
    "        priceMilstein = EUOptionPriceFromMCPaths(CP, S_Milstein[:,-1], K, T, r)\n",
    "        \n",
    "        print(\"For N = {0} Euler scheme yields option price = {1} and Milstein {2}\"\\\n",
    "             .format(NoOfPathsTemp, priceEuler, priceMilstein))\n",
    "        print(\"For N = {0} Euler error = {1} and Milstein error {2}\"\\\n",
    "             .format(NoOfPathsTemp, priceEuler - exactPrice, priceMilstein - exactPrice))\n",
    "        \n",
    "    # Cash or nothing price\n",
    "    print(\"CASH OR NOTHING PRICE\")\n",
    "    exactPrice = BS_Cash_Or_Nothing_Price(CP, S_0, K, sigma, T, r)\n",
    "    print(\"Exact option price = {0}\".format(exactPrice))\n",
    "        \n",
    "    for NoOfPathsTemp in NoOfPathsV:\n",
    "        np.random.seed(1)\n",
    "        PathsEuler = GeneratePathsGBMEuler(NoOfPathsTemp, NoOfSteps, T, r, sigma, S_0)\n",
    "        np.random.seed(1)\n",
    "        PathsMilstein = GeneratePathsGBMMilstein(NoOfPathsTemp, NoOfSteps, T, r, sigma, S_0)\n",
    "        S_Euler = PathsEuler[\"S\"]\n",
    "        S_Milstein = PathsMilstein[\"S\"]\n",
    "        priceEuler = CashofNothingPriceFromMCPaths(CP, S_Euler[:,-1], K[0], T, r)\n",
    "        priceMilstein = CashofNothingPriceFromMCPaths(CP, S_Milstein[:,-1], K[0], T, r)\n",
    "        \n",
    "        print(\"For N = {0} Euler scheme yields option price = {1} and Milstein {2}\"\\\n",
    "             .format(NoOfPathsTemp, priceEuler, priceMilstein))\n",
    "        print(\"For N = {0} Euler error = {1} and Milstein error {2}\"\\\n",
    "             .format(NoOfPathsTemp, priceEuler - exactPrice, priceMilstein - exactPrice))\n",
    "     \n",
    "        \n"
   ]
  },
  {
   "cell_type": "code",
   "execution_count": 17,
   "id": "e4f5c879",
   "metadata": {},
   "outputs": [
    {
     "name": "stdout",
     "output_type": "stream",
     "text": [
      "EUROPEAN OPTION PRICING\n",
      "Exact option price = [0.73585362]\n",
      "For N = 100 Euler scheme yields option price = 0.7285547612550968 and Milstein 0.728444051871542\n",
      "For N = 100 Euler error = [-0.00729886] and Milstein error [-0.00740957]\n",
      "For N = 1000 Euler scheme yields option price = 0.7200580888738554 and Milstein 0.7202098357606097\n",
      "For N = 1000 Euler error = [-0.01579553] and Milstein error [-0.01564379]\n",
      "For N = 5000 Euler scheme yields option price = 0.7481360160804368 and Milstein 0.7481404588408821\n",
      "For N = 5000 Euler error = [0.0122824] and Milstein error [0.01228684]\n",
      "For N = 10000 Euler scheme yields option price = 0.7387184512149807 and Milstein 0.7386727436156081\n",
      "For N = 10000 Euler error = [0.00286483] and Milstein error [0.00281912]\n",
      "CASH OR NOTHING PRICE\n",
      "Exact option price = [[2.44829963]]\n",
      "For N = 100 Euler scheme yields option price = 2.731117147394321 and Milstein 2.731117147394321\n",
      "For N = 100 Euler error = [[0.28281751]] and Milstein error [[0.28281751]]\n",
      "For N = 1000 Euler scheme yields option price = 2.4438789646511254 and Milstein 2.434461319315283\n",
      "For N = 1000 Euler error = [[-0.00442067]] and Milstein error [[-0.01383832]]\n",
      "For N = 5000 Euler scheme yields option price = 2.4241019094458562 and Milstein 2.422218380378687\n",
      "For N = 5000 Euler error = [[-0.02419773]] and Milstein error [[-0.02608125]]\n",
      "For N = 10000 Euler scheme yields option price = 2.422218380378687 and Milstein 2.422218380378687\n",
      "For N = 10000 Euler error = [[-0.02608125]] and Milstein error [[-0.02608125]]\n"
     ]
    }
   ],
   "source": [
    "mainCalculation()"
   ]
  },
  {
   "cell_type": "markdown",
   "id": "176299f3",
   "metadata": {},
   "source": [
    "The payoff depends only on terminal payment, the strong convergence is not really present, we cannot reduce number of paths to have a better quality results. "
   ]
  }
 ],
 "metadata": {
  "kernelspec": {
   "display_name": "Python 3 (ipykernel)",
   "language": "python",
   "name": "python3"
  },
  "language_info": {
   "codemirror_mode": {
    "name": "ipython",
    "version": 3
   },
   "file_extension": ".py",
   "mimetype": "text/x-python",
   "name": "python",
   "nbconvert_exporter": "python",
   "pygments_lexer": "ipython3",
   "version": "3.10.2"
  }
 },
 "nbformat": 4,
 "nbformat_minor": 5
}
