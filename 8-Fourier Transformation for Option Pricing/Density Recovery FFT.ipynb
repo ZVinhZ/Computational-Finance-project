{
 "cells": [
  {
   "cell_type": "markdown",
   "id": "04f9d7cc",
   "metadata": {},
   "source": [
    "# Normal density recovery using FFT\n",
    "\n",
    "We take the characteristic function of the N($\\mu,\\sigma^2$)  \n",
    "$\\phi_X(u) = exp(i\\mu u - \\frac{1}{2}\\sigma^2 u^2)$  \n",
    "  \n",
    "We then compare the original PDF $f_X$ with the FFT approximation"
   ]
  },
  {
   "cell_type": "code",
   "execution_count": 1,
   "id": "8a94fd61",
   "metadata": {},
   "outputs": [],
   "source": [
    "import numpy as np\n",
    "import matplotlib.pyplot as plt\n",
    "import scipy.stats as st\n",
    "import scipy.fft as fft\n",
    "import scipy.interpolate as interpolate\n"
   ]
  },
  {
   "cell_type": "code",
   "execution_count": 8,
   "id": "e3a37df8",
   "metadata": {},
   "outputs": [],
   "source": [
    "def RecoveryDensity( cf, x, N = 8192):\n",
    "    # assigning i = sqrt(-1)\n",
    "    i = np.complex(0,1)\n",
    "    \n",
    "    # specification of the grid for u\n",
    "    u_max = 20\n",
    "    du = u_max / N\n",
    "    u = np.linspace(0, N-1, N) * du\n",
    "    \n",
    "    # grid for x\n",
    "    b   = np.min(x)\n",
    "    # dx*du = 2pi/N\n",
    "    dx  = 2 * np.pi / (N*du) \n",
    "    x_i = b + np.linspace(0, N-1, N) * dx\n",
    "    \n",
    "    # ChF\n",
    "    phi = np.exp(-i*b*u) * cf(u)\n",
    "    \n",
    "    # Boundary points\n",
    "    gamma_1 = np.exp(-i*x_i*u[0]) * cf(u[0])\n",
    "    gamma_2 = np.exp(-i*x_i*u[-1]) * cf(u[-1])\n",
    "    phi_boundary = 0.5 * (gamma_1 + gamma_2)\n",
    "    \n",
    "    # FFT : the part exp(-i2pi/N * (n-1)(k-1) is in fft)\n",
    "    # We perform FFT on N grid points of x_i, but if input x has point not in the grid\n",
    "    # these will be performed by interpolation.\n",
    "    # Or if x has millions point it will be performed by interpolation\n",
    "    f_xi = du/np.pi * np.real(fft.fft(phi) - phi_boundary)\n",
    "    \n",
    "    # Interpolation\n",
    "    f_xiInterp = interpolate.interp1d(x_i, f_xi, kind = 'cubic')\n",
    "    \n",
    "    return f_xiInterp(x)\n",
    "    "
   ]
  },
  {
   "cell_type": "code",
   "execution_count": 10,
   "id": "1f775fd1",
   "metadata": {},
   "outputs": [],
   "source": [
    "def mainCalculation():\n",
    "    i = np.complex(0, 1)\n",
    "    \n",
    "    # setting for normal distribution\n",
    "    mu    = 0\n",
    "    sigma = 1\n",
    "    \n",
    "    # Define characteristic function for the normal distribution\n",
    "    cF = lambda u: np.exp(i * mu * u - 0.5 * sigma ** 2 *u**2)\n",
    "    \n",
    "    # define domain for density\n",
    "    x = np.linspace(-8, 8, 100)\n",
    "    f_XExact = st.norm.pdf(x, mu, sigma)\n",
    "    \n",
    "    # Recovered Density\n",
    "    f_XR = RecoveryDensity(cF,x)\n",
    "    \n",
    "    plt.figure(1)\n",
    "    plt.grid()\n",
    "    plt.xlabel(\"x\")\n",
    "    plt.ylabel(\"$f_X(x)$\")\n",
    "    plt.plot(x, f_XExact, '-r')\n",
    "    plt.plot(x, f_XR, '--b')\n",
    "    plt.legend(['Exact PDF', 'Approximated PDF'])\n",
    "    "
   ]
  },
  {
   "cell_type": "code",
   "execution_count": 11,
   "id": "abe74058",
   "metadata": {},
   "outputs": [
    {
     "name": "stderr",
     "output_type": "stream",
     "text": [
      "C:\\Users\\NGUYEN Xuan Vinh\\AppData\\Local\\Temp\\ipykernel_11676\\3940198881.py:2: DeprecationWarning: `np.complex` is a deprecated alias for the builtin `complex`. To silence this warning, use `complex` by itself. Doing this will not modify any behavior and is safe. If you specifically wanted the numpy scalar type, use `np.complex128` here.\n",
      "Deprecated in NumPy 1.20; for more details and guidance: https://numpy.org/devdocs/release/1.20.0-notes.html#deprecations\n",
      "  i = np.complex(0, 1)\n",
      "C:\\Users\\NGUYEN Xuan Vinh\\AppData\\Local\\Temp\\ipykernel_11676\\2292158480.py:3: DeprecationWarning: `np.complex` is a deprecated alias for the builtin `complex`. To silence this warning, use `complex` by itself. Doing this will not modify any behavior and is safe. If you specifically wanted the numpy scalar type, use `np.complex128` here.\n",
      "Deprecated in NumPy 1.20; for more details and guidance: https://numpy.org/devdocs/release/1.20.0-notes.html#deprecations\n",
      "  i = np.complex(0,1)\n"
     ]
    },
    {
     "data": {
      "image/png": "[encoded data removed]",
      "text/plain": [
       "<Figure size 432x288 with 1 Axes>"
      ]
     },
     "metadata": {
      "needs_background": "light"
     },
     "output_type": "display_data"
    }
   ],
   "source": [
    "mainCalculation()"
   ]
  },
  {
   "cell_type": "code",
   "execution_count": null,
   "id": "7f88832b",
   "metadata": {},
   "outputs": [],
   "source": []
  }
 ],
 "metadata": {
  "kernelspec": {
   "display_name": "Python 3 (ipykernel)",
   "language": "python",
   "name": "python3"
  },
  "language_info": {
   "codemirror_mode": {
    "name": "ipython",
    "version": 3
   },
   "file_extension": ".py",
   "mimetype": "text/x-python",
   "name": "python",
   "nbconvert_exporter": "python",
   "pygments_lexer": "ipython3",
   "version": "3.10.2"
  }
 },
 "nbformat": 4,
 "nbformat_minor": 5
}
