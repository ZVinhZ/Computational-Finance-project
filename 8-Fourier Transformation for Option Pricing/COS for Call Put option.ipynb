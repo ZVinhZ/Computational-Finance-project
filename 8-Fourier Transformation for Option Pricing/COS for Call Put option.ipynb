{
 "cells": [
  {
   "cell_type": "markdown",
   "id": "a91e599d",
   "metadata": {},
   "source": [
    "# Pricing of European Call and Put options with the COS method"
   ]
  },
  {
   "cell_type": "code",
   "execution_count": 1,
   "id": "60a2f50c",
   "metadata": {},
   "outputs": [],
   "source": [
    "import numpy as np\n",
    "import matplotlib.pyplot as plt\n",
    "import scipy.stats as st\n",
    "import time"
   ]
  },
  {
   "cell_type": "code",
   "execution_count": 20,
   "id": "02aea558",
   "metadata": {},
   "outputs": [],
   "source": [
    "def CallPutOptionPriceCOSMthd(cf, CP, S0, r, tau, K, N, L):\n",
    "    \"\"\"\n",
    "    Input:\n",
    "        - cf  = characteristic function as a function\n",
    "        - CP  = C for call and P for put\n",
    "        - S0  = Intitial stock price\n",
    "        - r   = interest rate (constant)\n",
    "        - tau = time to maturity\n",
    "        - K   = list of strikes\n",
    "        - N   = Number of expansion terms\n",
    "        - L   = size of truncation domain (type : L = 9 etc.)\n",
    "    \"\"\"\n",
    "    \n",
    "    # reshape K to a column vector\n",
    "    K = np.array(K).reshape([len(K), 1])\n",
    "    \n",
    "    # i = sqrt(-1)\n",
    "    i = np.complex(0, 1)\n",
    "    \n",
    "    x0 = np.log(S0 / K)\n",
    "    \n",
    "    # truncation domain\n",
    "    a = 0 - L * np.sqrt(tau)\n",
    "    b = 0 + L * np.sqrt(tau)\n",
    "    \n",
    "    # summation from k = 0 to k = N-1\n",
    "    k = np.linspace(0, N-1, N).reshape([N, 1])\n",
    "    u = k *  np.pi / (b - a)\n",
    "    \n",
    "    # dtermine coefficients for Put Prices\n",
    "    H_k = CallPutCoefficients(CP, a, b, k)\n",
    "    \n",
    "    mat = np.exp(i * np.outer((x0 - a), u))\n",
    "    \n",
    "    temp = cf(u) * H_k\n",
    "    temp[0] = 0.5 * temp[0]\n",
    "    \n",
    "    value = np.exp(-r * tau) * K * np.real(mat.dot(temp))\n",
    "    \n",
    "    return value\n",
    "    "
   ]
  },
  {
   "cell_type": "code",
   "execution_count": 4,
   "id": "6130208f",
   "metadata": {},
   "outputs": [],
   "source": [
    "\"\"\"\n",
    "Function to determine coefficients for Put Prices\n",
    "\"\"\"\n",
    "def CallPutCoefficients(CP, a, b, k):\n",
    "    if str(CP).lower() == \"c\" or str(CP).lower() == \"1\":\n",
    "        c = 0\n",
    "        d = b\n",
    "        coef  = Chi_Psi(a, b, c, d, k)\n",
    "        Chi_k = coef[\"chi\"]\n",
    "        Psi_k = coef[\"psi\"]\n",
    "        \n",
    "        if a < b and b < 0:\n",
    "            H_k = np.zeros([len(k), 1])\n",
    "        else:\n",
    "            H_k = 2 / (b - a) * (Chi_k - Psi_k)\n",
    "        \n",
    "    elif str(CP).lower() == \"p\" or str(CP).lower() == \"-1\":\n",
    "        c = a\n",
    "        d = 0\n",
    "        coef  = Chi_Psi(a, b, c, d, k)\n",
    "        Chi_k = coef[\"chi\"]\n",
    "        Psi_k = coef[\"psi\"]\n",
    "        H_k   = 2 / (b - a) *(- Chi_k + Psi_k)\n",
    "        \n",
    "    return H_k"
   ]
  },
  {
   "cell_type": "code",
   "execution_count": 10,
   "id": "343e81ce",
   "metadata": {},
   "outputs": [],
   "source": [
    "def BS_Call_Option_Price(CP, S_0, K, sigma, tau, r):\n",
    "    # Black-Scholes Call option price\n",
    "    cp = str(CP).lower()\n",
    "    K  = np.array(K).reshape([len(K), 1])\n",
    "    \n",
    "    d1 = (np.log(S_0 / K) + (r + 0.5 * np.power(sigma, 2)) * tau) / float(sigma * np.sqrt(tau))\n",
    "    d2 = d1 - sigma * np.sqrt(tau)\n",
    "    \n",
    "    if cp == \"c\" or cp == \"1\":\n",
    "        value = st.norm.cdf(d1) * S_0 - st.norm.cdf(d2) * K * np.exp(-r * tau)\n",
    "    elif cp == \"p\" or cp == \"-1\":\n",
    "        value = st.norm.cdf(-d2) * K * np.exp(-r * tau) - st.norm.cdf(-d1) * S_0\n",
    "    return value"
   ]
  },
  {
   "cell_type": "code",
   "execution_count": 17,
   "id": "86468e45",
   "metadata": {},
   "outputs": [],
   "source": [
    "def Chi_Psi(a, b, c, d, k):\n",
    "    psi = np.sin(k * np.pi * (d - a) / (b - a)) - np.sin(k * np.pi *(c - a) / (b - a))\n",
    "    psi [1:] = psi[1:] * (b - a) / (k[1:] * np.pi)\n",
    "    psi[0] = d - c\n",
    "    \n",
    "    chi = 1 / (1 + np.power((k * np.pi) / (b - a), 2))\n",
    "    expr1 = np.cos(k * np.pi * (d - a) / (b - a)) * np.exp(d) \\\n",
    "            - np.cos(k * np.pi * (c - a) / (b - a)) * np.exp(c)\n",
    "    expr2 = k *  np.pi / (b - a) * (np.sin(k * np.pi * (d - a) / (b - a)) * np.exp(d) \\\n",
    "                                   - np.sin(k * np.pi * (c - a) / (b - a)) * np.exp(c))\n",
    "    \n",
    "    chi = chi * (expr1 + expr2)\n",
    "    \n",
    "    value = {\"chi\": chi, \"psi\" : psi}\n",
    "    \n",
    "    return value\n",
    "    \n",
    " "
   ]
  },
  {
   "cell_type": "code",
   "execution_count": 35,
   "id": "6c47aa0d",
   "metadata": {},
   "outputs": [],
   "source": [
    "def mainCalculation():\n",
    "    i = np.complex(0, 1)\n",
    "    \n",
    "    CP = \"c\"\n",
    "    S0  = 100\n",
    "    r   = 0.1\n",
    "    tau = 0.1\n",
    "    sigma = 0.25\n",
    "    K = [80, 100, 110, 120]\n",
    "    N = 320\n",
    "    L = 10\n",
    "    \n",
    "    # Definition of the characteristic function for the GBM,\n",
    "    # this is the an input for the COS method.\n",
    "    # Note that characteristic function does not include coefficient \"+iuX(t_0)\"\n",
    "    # this coefficient is included internally in the evaluation\n",
    "    \n",
    "    # Characteristic function for Normal distribution\n",
    "    cf = lambda u: np.exp((r - 0.5 * np.power(sigma, 2)) * i * u * tau - 0.5 * np.power(sigma, 2) * np.power(u, 2) * tau)\n",
    "    \n",
    "    # Timing results\n",
    "    NoOfIterations = 100\n",
    "    time_start = time.time()\n",
    "    \n",
    "    for k in range(0, NoOfIterations, 1):\n",
    "        val_COS = CallPutOptionPriceCOSMthd(cf, CP, S0, r, tau, K, N, L)\n",
    "    time_stop = time.time()\n",
    "    print(\"It took {0} seconds to price\".format((time_stop - time_start) / float(NoOfIterations)))\n",
    "    \n",
    "    # evaluate analytical Black Scholes equation\n",
    "    val_Exact = BS_Call_Option_Price(CP, S0, K, sigma, tau, r)\n",
    "    plt.plot(K, val_COS)\n",
    "    plt.plot(K, val_Exact, '--')\n",
    "    plt.xlabel(\"strike K\")\n",
    "    plt.ylabel(\"Option Price\")\n",
    "    plt.legend([\"COS Price\", \"BS model\"])\n",
    "    \n",
    "    # error computation\n",
    "    error = []\n",
    "    for i in range(0, len(K)):\n",
    "        error.append(np.abs(val_COS[i] - val_Exact[i])[0])\n",
    "        print(\"Abs error for strike {0} is equal to {1:.2E}\".format(K[i],error[i]))"
   ]
  },
  {
   "cell_type": "code",
   "execution_count": 36,
   "id": "0e97430d",
   "metadata": {},
   "outputs": [
    {
     "name": "stderr",
     "output_type": "stream",
     "text": [
      "C:\\Users\\NGUYEN Xuan Vinh\\AppData\\Local\\Temp\\ipykernel_20100\\2439788499.py:2: DeprecationWarning: `np.complex` is a deprecated alias for the builtin `complex`. To silence this warning, use `complex` by itself. Doing this will not modify any behavior and is safe. If you specifically wanted the numpy scalar type, use `np.complex128` here.\n",
      "Deprecated in NumPy 1.20; for more details and guidance: https://numpy.org/devdocs/release/1.20.0-notes.html#deprecations\n",
      "  i = np.complex(0, 1)\n",
      "C:\\Users\\NGUYEN Xuan Vinh\\AppData\\Local\\Temp\\ipykernel_20100\\2709692171.py:18: DeprecationWarning: `np.complex` is a deprecated alias for the builtin `complex`. To silence this warning, use `complex` by itself. Doing this will not modify any behavior and is safe. If you specifically wanted the numpy scalar type, use `np.complex128` here.\n",
      "Deprecated in NumPy 1.20; for more details and guidance: https://numpy.org/devdocs/release/1.20.0-notes.html#deprecations\n",
      "  i = np.complex(0, 1)\n"
     ]
    },
    {
     "name": "stdout",
     "output_type": "stream",
     "text": [
      "It took 0.0006405186653137208 seconds to price\n",
      "Abs error for strike 80 is equal to 1.23E-12\n",
      "Abs error for strike 100 is equal to 6.21E-13\n",
      "Abs error for strike 110 is equal to 2.67E-12\n",
      "Abs error for strike 120 is equal to 4.75E-12\n"
     ]
    },
    {
     "data": {
      "image/png": "[encoded data removed]",
      "text/plain": [
       "<Figure size 432x288 with 1 Axes>"
      ]
     },
     "metadata": {
      "needs_background": "light"
     },
     "output_type": "display_data"
    }
   ],
   "source": [
    "mainCalculation()"
   ]
  },
  {
   "cell_type": "markdown",
   "id": "39dae48e",
   "metadata": {},
   "source": [
    "The line will be smoother if we add more strike and the error will decrease when we increase the expansion term N"
   ]
  }
 ],
 "metadata": {
  "kernelspec": {
   "display_name": "Python 3 (ipykernel)",
   "language": "python",
   "name": "python3"
  },
  "language_info": {
   "codemirror_mode": {
    "name": "ipython",
    "version": 3
   },
   "file_extension": ".py",
   "mimetype": "text/x-python",
   "name": "python",
   "nbconvert_exporter": "python",
   "pygments_lexer": "ipython3",
   "version": "3.10.2"
  }
 },
 "nbformat": 4,
 "nbformat_minor": 5
}
