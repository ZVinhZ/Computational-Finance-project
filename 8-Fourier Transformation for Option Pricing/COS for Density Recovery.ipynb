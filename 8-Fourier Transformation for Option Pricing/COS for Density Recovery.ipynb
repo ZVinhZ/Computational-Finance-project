{
 "cells": [
  {
   "cell_type": "markdown",
   "id": "098245e4",
   "metadata": {},
   "source": [
    "# 1.Normal Density recovery using COS method"
   ]
  },
  {
   "cell_type": "code",
   "execution_count": 1,
   "id": "bfa8d2c2",
   "metadata": {},
   "outputs": [],
   "source": [
    "import numpy as np\n",
    "import matplotlib.pyplot as plt\n",
    "import scipy.stats as st"
   ]
  },
  {
   "cell_type": "code",
   "execution_count": 6,
   "id": "5b994578",
   "metadata": {},
   "outputs": [],
   "source": [
    "def COSDensity(cf, x, N, a, b):\n",
    "    \"\"\"\n",
    "    Input : \n",
    "    - cf = characteristic function\n",
    "    \"\"\"\n",
    "    i = np.complex(0, 1)\n",
    "    k = np.linspace(0, N-1, N)\n",
    "    u = np.zeros([1, N])\n",
    "    u = k * np.pi/ (b - a)\n",
    "    \n",
    "    # F_k coefficients\n",
    "    F_k    = 2 / (b - a) * np.real(cf(u) * np.exp(-i * u * a))\n",
    "    F_k[0] = F_k[0]* 0.5 # adjustment for the first term of Fourier serie\n",
    "    \n",
    "    # Final calculation for density\n",
    "    f_X = np.matmul(F_k, np.cos(np.outer(u, x - a)))\n",
    "    \n",
    "    # Get only the first row as the output\n",
    "    return f_X"
   ]
  },
  {
   "cell_type": "code",
   "execution_count": 45,
   "id": "a98d040f",
   "metadata": {},
   "outputs": [],
   "source": [
    "a = -10\n",
    "b = 10\n",
    "N = 4\n",
    "k = np.linspace(0, N-1, N)\n",
    "u = np.zeros([1, N])\n",
    "u = k * np.pi/ (b - a)\n",
    "    \n",
    "x = np.linspace(-5, 5, 11)"
   ]
  },
  {
   "cell_type": "code",
   "execution_count": 47,
   "id": "468d3abe",
   "metadata": {},
   "outputs": [
    {
     "data": {
      "text/plain": [
       "array([[0.        , 0.        , 0.        , 0.        , 0.        ,\n",
       "        0.        , 0.        , 0.        , 0.        , 0.        ,\n",
       "        0.        ],\n",
       "       [0.78539816, 0.9424778 , 1.09955743, 1.25663706, 1.41371669,\n",
       "        1.57079633, 1.72787596, 1.88495559, 2.04203522, 2.19911486,\n",
       "        2.35619449],\n",
       "       [1.57079633, 1.88495559, 2.19911486, 2.51327412, 2.82743339,\n",
       "        3.14159265, 3.45575192, 3.76991118, 4.08407045, 4.39822972,\n",
       "        4.71238898],\n",
       "       [2.35619449, 2.82743339, 3.29867229, 3.76991118, 4.24115008,\n",
       "        4.71238898, 5.18362788, 5.65486678, 6.12610567, 6.59734457,\n",
       "        7.06858347]])"
      ]
     },
     "execution_count": 47,
     "metadata": {},
     "output_type": "execute_result"
    }
   ],
   "source": [
    "np.outer(u, x - a)"
   ]
  },
  {
   "cell_type": "code",
   "execution_count": null,
   "id": "e8103765",
   "metadata": {},
   "outputs": [],
   "source": []
  },
  {
   "cell_type": "code",
   "execution_count": 42,
   "id": "ca67c9ab",
   "metadata": {},
   "outputs": [],
   "source": [
    "def mainCalculation():\n",
    "    i = np.complex(0, 1) # i = sqrt(-1)\n",
    "    \n",
    "    # Setting for the COS method\n",
    "    a = -10\n",
    "    b = 10\n",
    "    \n",
    "    # Define the range for the expansion points\n",
    "    N = [2**x for x in range(2,7,1)]\n",
    "    \n",
    "    # Setting for Normal distribution\n",
    "    mu = 0\n",
    "    sigma = 1\n",
    "    \n",
    "    # Define characteristic function for the normal distribution\n",
    "    cF = lambda u : np.exp(i * mu * u - 0.5 * np.power(sigma, 2) * np.power(u ,2))\n",
    "    \n",
    "    # Define domain for density\n",
    "    x = np.linspace(-5, 5, 11)\n",
    "    # Exact Density of Normal Distribution\n",
    "    f_XExact = st.norm.pdf(x, mu, sigma)\n",
    "    \n",
    "    plt.figure(1)\n",
    "    plt.grid()\n",
    "    plt.xlabel(\"x\")\n",
    "    plt.ylabel(\"$f_X(x)$\")\n",
    "    \n",
    "    for n in N:\n",
    "        f_X = COSDensity(cF, x, n, a, b)\n",
    "        error = np.max(np.abs(f_X - f_XExact))\n",
    "        print(\"for {0} expansion terms the error is {1}\".format(n, error))\n",
    "        #print(f_X)\n",
    "        plt.plot(x, f_X)\n",
    "        \n",
    "    plt.legend([\"4\",\"8\",\"16\",\"32\", \"64\"])"
   ]
  },
  {
   "cell_type": "code",
   "execution_count": 43,
   "id": "47a2e25e",
   "metadata": {},
   "outputs": [
    {
     "name": "stdout",
     "output_type": "stream",
     "text": [
      "for 4 expansion terms the error is 0.25375729966450533\n",
      "[0.05       0.07941378 0.10594833 0.12700627 0.1405263  0.14518498\n",
      " 0.1405263  0.12700627 0.10594833 0.07941378 0.05      ]\n",
      "for 8 expansion terms the error is 0.10753236532743593\n",
      "[-0.03208687 -0.03888468  0.01958317  0.13255275  0.24463538  0.29140992\n",
      "  0.24463538  0.13255275  0.01958317 -0.03888468 -0.03208687]\n",
      "for 16 expansion terms the error is 0.007175052932337445\n",
      "[-0.00360525  0.00228864  0.00501448  0.05025506  0.24819981  0.39176723\n",
      "  0.24819981  0.05025506  0.00501448  0.00228864 -0.00360525]\n",
      "for 32 expansion terms the error is 4.037605122464427e-07\n",
      "[1.17161198e-06 1.33789571e-04 4.43217537e-03 5.39912449e-02\n",
      " 2.41970575e-01 3.98941877e-01 2.41970575e-01 5.39912449e-02\n",
      " 4.43217537e-03 1.33789571e-04 1.17161198e-06]\n",
      "for 64 expansion terms the error is 8.413408858487514e-17\n",
      "[1.48671951e-06 1.33830226e-04 4.43184841e-03 5.39909665e-02\n",
      " 2.41970725e-01 3.98942280e-01 2.41970725e-01 5.39909665e-02\n",
      " 4.43184841e-03 1.33830226e-04 1.48671951e-06]\n"
     ]
    },
    {
     "name": "stderr",
     "output_type": "stream",
     "text": [
      "C:\\Users\\NGUYEN Xuan Vinh\\AppData\\Local\\Temp\\ipykernel_9280\\4230540072.py:2: DeprecationWarning: `np.complex` is a deprecated alias for the builtin `complex`. To silence this warning, use `complex` by itself. Doing this will not modify any behavior and is safe. If you specifically wanted the numpy scalar type, use `np.complex128` here.\n",
      "Deprecated in NumPy 1.20; for more details and guidance: https://numpy.org/devdocs/release/1.20.0-notes.html#deprecations\n",
      "  i = np.complex(0, 1) # i = sqrt(-1)\n",
      "C:\\Users\\NGUYEN Xuan Vinh\\AppData\\Local\\Temp\\ipykernel_9280\\1505725280.py:6: DeprecationWarning: `np.complex` is a deprecated alias for the builtin `complex`. To silence this warning, use `complex` by itself. Doing this will not modify any behavior and is safe. If you specifically wanted the numpy scalar type, use `np.complex128` here.\n",
      "Deprecated in NumPy 1.20; for more details and guidance: https://numpy.org/devdocs/release/1.20.0-notes.html#deprecations\n",
      "  i = np.complex(0, 1)\n",
      "C:\\Users\\NGUYEN Xuan Vinh\\AppData\\Local\\Temp\\ipykernel_9280\\1505725280.py:6: DeprecationWarning: `np.complex` is a deprecated alias for the builtin `complex`. To silence this warning, use `complex` by itself. Doing this will not modify any behavior and is safe. If you specifically wanted the numpy scalar type, use `np.complex128` here.\n",
      "Deprecated in NumPy 1.20; for more details and guidance: https://numpy.org/devdocs/release/1.20.0-notes.html#deprecations\n",
      "  i = np.complex(0, 1)\n",
      "C:\\Users\\NGUYEN Xuan Vinh\\AppData\\Local\\Temp\\ipykernel_9280\\1505725280.py:6: DeprecationWarning: `np.complex` is a deprecated alias for the builtin `complex`. To silence this warning, use `complex` by itself. Doing this will not modify any behavior and is safe. If you specifically wanted the numpy scalar type, use `np.complex128` here.\n",
      "Deprecated in NumPy 1.20; for more details and guidance: https://numpy.org/devdocs/release/1.20.0-notes.html#deprecations\n",
      "  i = np.complex(0, 1)\n",
      "C:\\Users\\NGUYEN Xuan Vinh\\AppData\\Local\\Temp\\ipykernel_9280\\1505725280.py:6: DeprecationWarning: `np.complex` is a deprecated alias for the builtin `complex`. To silence this warning, use `complex` by itself. Doing this will not modify any behavior and is safe. If you specifically wanted the numpy scalar type, use `np.complex128` here.\n",
      "Deprecated in NumPy 1.20; for more details and guidance: https://numpy.org/devdocs/release/1.20.0-notes.html#deprecations\n",
      "  i = np.complex(0, 1)\n",
      "C:\\Users\\NGUYEN Xuan Vinh\\AppData\\Local\\Temp\\ipykernel_9280\\1505725280.py:6: DeprecationWarning: `np.complex` is a deprecated alias for the builtin `complex`. To silence this warning, use `complex` by itself. Doing this will not modify any behavior and is safe. If you specifically wanted the numpy scalar type, use `np.complex128` here.\n",
      "Deprecated in NumPy 1.20; for more details and guidance: https://numpy.org/devdocs/release/1.20.0-notes.html#deprecations\n",
      "  i = np.complex(0, 1)\n"
     ]
    },
    {
     "data": {
      "image/png": "[encoded data removed]",
      "text/plain": [
       "<Figure size 432x288 with 1 Axes>"
      ]
     },
     "metadata": {
      "needs_background": "light"
     },
     "output_type": "display_data"
    }
   ],
   "source": [
    "mainCalculation()"
   ]
  },
  {
   "cell_type": "markdown",
   "id": "0e3d8e4e",
   "metadata": {},
   "source": [
    "N number of expansion points, in this case 64 points is enough but when we deal with distribution with heavier tail N may be much higher "
   ]
  },
  {
   "cell_type": "markdown",
   "id": "0835ccb8",
   "metadata": {},
   "source": [
    "# 2. Lognormal Density recovery using COS method"
   ]
  },
  {
   "cell_type": "code",
   "execution_count": 53,
   "id": "a09a7ea1",
   "metadata": {},
   "outputs": [],
   "source": [
    "def log_mainCalculation():\n",
    "    i = np.complex(0, 1) # i = sqrt(-1)\n",
    "    \n",
    "    # Setting for the COS method\n",
    "    a = -10\n",
    "    b = 10\n",
    "    \n",
    "    # Define the range for the expansion points\n",
    "    N = [16, 64, 128]\n",
    "    \n",
    "    # Setting for Normal distribution\n",
    "    mu = 0.5\n",
    "    sigma = 0.2\n",
    "    \n",
    "    # Define characteristic function for the normal distribution\n",
    "    cF = lambda u : np.exp(i * mu * u - 0.5 * np.power(sigma, 2) * np.power(u ,2))\n",
    "    \n",
    "    # Define domain for density\n",
    "    y = np.linspace(0.05, 5, 1000)\n",
    "    # Exact Density of Normal Distribution\n",
    "    f_XExact = st.norm.pdf(x, mu, sigma)\n",
    "    \n",
    "    plt.figure(1)\n",
    "    plt.grid()\n",
    "    plt.xlabel(\"y\")\n",
    "    plt.ylabel(\"$f_Y(y)$\")\n",
    "    \n",
    "    for n in N:\n",
    "        f_Y = 1/y * COSDensity(cF, np.log(y), n, a, b)\n",
    "        #print(f_Y)\n",
    "        plt.plot(y, f_Y)\n",
    "        \n",
    "    plt.legend([\"N = %.0f\"%N[0],\"N = %.0f\"%N[1],\"N = %.0f\"%N[2]])"
   ]
  },
  {
   "cell_type": "code",
   "execution_count": 54,
   "id": "c819d820",
   "metadata": {},
   "outputs": [
    {
     "name": "stderr",
     "output_type": "stream",
     "text": [
      "C:\\Users\\NGUYEN Xuan Vinh\\AppData\\Local\\Temp\\ipykernel_9280\\2647203751.py:2: DeprecationWarning: `np.complex` is a deprecated alias for the builtin `complex`. To silence this warning, use `complex` by itself. Doing this will not modify any behavior and is safe. If you specifically wanted the numpy scalar type, use `np.complex128` here.\n",
      "Deprecated in NumPy 1.20; for more details and guidance: https://numpy.org/devdocs/release/1.20.0-notes.html#deprecations\n",
      "  i = np.complex(0, 1) # i = sqrt(-1)\n",
      "C:\\Users\\NGUYEN Xuan Vinh\\AppData\\Local\\Temp\\ipykernel_9280\\1505725280.py:6: DeprecationWarning: `np.complex` is a deprecated alias for the builtin `complex`. To silence this warning, use `complex` by itself. Doing this will not modify any behavior and is safe. If you specifically wanted the numpy scalar type, use `np.complex128` here.\n",
      "Deprecated in NumPy 1.20; for more details and guidance: https://numpy.org/devdocs/release/1.20.0-notes.html#deprecations\n",
      "  i = np.complex(0, 1)\n",
      "C:\\Users\\NGUYEN Xuan Vinh\\AppData\\Local\\Temp\\ipykernel_9280\\1505725280.py:6: DeprecationWarning: `np.complex` is a deprecated alias for the builtin `complex`. To silence this warning, use `complex` by itself. Doing this will not modify any behavior and is safe. If you specifically wanted the numpy scalar type, use `np.complex128` here.\n",
      "Deprecated in NumPy 1.20; for more details and guidance: https://numpy.org/devdocs/release/1.20.0-notes.html#deprecations\n",
      "  i = np.complex(0, 1)\n",
      "C:\\Users\\NGUYEN Xuan Vinh\\AppData\\Local\\Temp\\ipykernel_9280\\1505725280.py:6: DeprecationWarning: `np.complex` is a deprecated alias for the builtin `complex`. To silence this warning, use `complex` by itself. Doing this will not modify any behavior and is safe. If you specifically wanted the numpy scalar type, use `np.complex128` here.\n",
      "Deprecated in NumPy 1.20; for more details and guidance: https://numpy.org/devdocs/release/1.20.0-notes.html#deprecations\n",
      "  i = np.complex(0, 1)\n"
     ]
    },
    {
     "data": {
      "image/png": "[encoded data removed]",
      "text/plain": [
       "<Figure size 432x288 with 1 Axes>"
      ]
     },
     "metadata": {
      "needs_background": "light"
     },
     "output_type": "display_data"
    }
   ],
   "source": [
    "log_mainCalculation()"
   ]
  },
  {
   "cell_type": "code",
   "execution_count": null,
   "id": "e462ff3a",
   "metadata": {},
   "outputs": [],
   "source": []
  }
 ],
 "metadata": {
  "kernelspec": {
   "display_name": "Python 3 (ipykernel)",
   "language": "python",
   "name": "python3"
  },
  "language_info": {
   "codemirror_mode": {
    "name": "ipython",
    "version": 3
   },
   "file_extension": ".py",
   "mimetype": "text/x-python",
   "name": "python",
   "nbconvert_exporter": "python",
   "pygments_lexer": "ipython3",
   "version": "3.10.2"
  }
 },
 "nbformat": 4,
 "nbformat_minor": 5
}
