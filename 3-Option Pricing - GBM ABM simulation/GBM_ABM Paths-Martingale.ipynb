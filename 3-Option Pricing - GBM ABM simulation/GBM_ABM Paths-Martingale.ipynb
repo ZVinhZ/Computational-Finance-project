{
 "cells": [
  {
   "cell_type": "code",
   "execution_count": 1,
   "id": "9420d939",
   "metadata": {},
   "outputs": [],
   "source": [
    "import numpy as np\n",
    "import matplotlib.pyplot as plt"
   ]
  },
  {
   "cell_type": "code",
   "execution_count": 2,
   "id": "2313f6dc",
   "metadata": {},
   "outputs": [],
   "source": [
    "NoOfPaths = 2\n",
    "NoOfSteps = 5\n",
    "Z = np.random.normal(0.0,1.0,[NoOfPaths,NoOfSteps])\n",
    "X = np.zeros([NoOfPaths, NoOfSteps+1])\n",
    "S = np.zeros([NoOfPaths, NoOfSteps+1])\n",
    "time = np.zeros([NoOfSteps+1])"
   ]
  },
  {
   "cell_type": "code",
   "execution_count": 11,
   "id": "ad6b84e6",
   "metadata": {},
   "outputs": [
    {
     "data": {
      "text/plain": [
       "array([[ 0.39789946,  2.17637945,  0.61471058, -0.18385282, -0.23027534],\n",
       "       [ 0.10889478,  0.30886168,  1.39159114, -2.27810772, -0.10297621]])"
      ]
     },
     "execution_count": 11,
     "metadata": {},
     "output_type": "execute_result"
    }
   ],
   "source": [
    "Z"
   ]
  },
  {
   "cell_type": "code",
   "execution_count": 15,
   "id": "b67307af",
   "metadata": {},
   "outputs": [
    {
     "data": {
      "text/plain": [
       "array([[0., 0., 0., 0., 0., 0.],\n",
       "       [0., 0., 0., 0., 0., 0.]])"
      ]
     },
     "execution_count": 15,
     "metadata": {},
     "output_type": "execute_result"
    }
   ],
   "source": [
    "X"
   ]
  },
  {
   "cell_type": "code",
   "execution_count": 13,
   "id": "33011793",
   "metadata": {},
   "outputs": [
    {
     "data": {
      "text/plain": [
       "array([0., 0., 0., 0., 0., 0.])"
      ]
     },
     "execution_count": 13,
     "metadata": {},
     "output_type": "execute_result"
    }
   ],
   "source": [
    "time"
   ]
  },
  {
   "cell_type": "code",
   "execution_count": 3,
   "id": "fe148f8a",
   "metadata": {},
   "outputs": [],
   "source": [
    "def GeneratePathsGBMABM(NoOfPaths,NoOfSteps,T,r,sigma,S_0):    \n",
    "    \n",
    "    # Fixing random seed\n",
    "    np.random.seed(1)\n",
    "        \n",
    "    Z = np.random.normal(0.0,1.0,[NoOfPaths,NoOfSteps])\n",
    "    X = np.zeros([NoOfPaths, NoOfSteps+1])\n",
    "    S = np.zeros([NoOfPaths, NoOfSteps+1])\n",
    "    time = np.zeros([NoOfSteps+1])\n",
    "        \n",
    "    X[:,0] = np.log(S_0)\n",
    "    \n",
    "    dt = T / float(NoOfSteps)\n",
    "    for i in range(0,NoOfSteps):\n",
    "        # making sure that samples from normal have mean 0 and variance 1\n",
    "        if NoOfPaths > 1:\n",
    "            Z[:,i] = (Z[:,i] - np.mean(Z[:,i])) / np.std(Z[:,i])\n",
    "        #ABM    \n",
    "        X[:,i+1] = X[:,i] + (r - 0.5 * sigma **2 ) * dt + sigma * np.power(dt, 0.5)*Z[:,i]\n",
    "        time[i+1] = time[i] + dt\n",
    "        \n",
    "    #Compute exponent of ABM\n",
    "    S = np.exp(X)\n",
    "    paths = {\"time\":time,\"X\":X,\"S\":S}\n",
    "    return paths\n"
   ]
  },
  {
   "cell_type": "code",
   "execution_count": 9,
   "id": "ada432a8",
   "metadata": {},
   "outputs": [
    {
     "name": "stdout",
     "output_type": "stream",
     "text": [
      "105.0564187201596\n",
      "99.93275671928345\n"
     ]
    }
   ],
   "source": [
    "def mainCalculation():\n",
    "    NoOfPaths = 50000\n",
    "    NoOfSteps = 1000\n",
    "    T = 1\n",
    "    r = 0.05\n",
    "    sigma = 0.4\n",
    "    S_0 = 100\n",
    "    \n",
    "    M = lambda r,t : np.exp(r**t)\n",
    "    \n",
    "    Paths = GeneratePathsGBMABM(NoOfPaths,NoOfSteps,T,r,sigma,S_0)\n",
    "    timeGrid = Paths[\"time\"]\n",
    "    X = Paths[\"X\"]\n",
    "    S = Paths[\"S\"]\n",
    "    \n",
    "    #plt.figure(1)\n",
    "    #plt.plot(timeGrid, np.transpose(X))   \n",
    "    #plt.grid()\n",
    "    #plt.xlabel(\"time\")\n",
    "    #plt.ylabel(\"X(t)\")\n",
    "    \n",
    "    #plt.figure(2)\n",
    "    #plt.plot(timeGrid, np.transpose(S))   \n",
    "    #plt.grid()\n",
    "    #plt.xlabel(\"time\")\n",
    "    #plt.ylabel(\"S(t)\")\n",
    "    \n",
    "    # Checking martingale property\n",
    "    # not discounted\n",
    "    # checking expectation of future stock value not equal to S0 so not a martingale\n",
    "    ES = np.mean(S[:,-1])\n",
    "    print(ES)\n",
    "    \n",
    "    # discounted\n",
    "    # improved close to S0 if we increase NoOfPaths\n",
    "    ESM = np.mean(S[:,-1]/M(r,T))\n",
    "    print(ESM)\n",
    "    \n",
    "    # We have convergence\n",
    "    \n",
    "mainCalculation()"
   ]
  }
 ],
 "metadata": {
  "kernelspec": {
   "display_name": "Python 3 (ipykernel)",
   "language": "python",
   "name": "python3"
  },
  "language_info": {
   "codemirror_mode": {
    "name": "ipython",
    "version": 3
   },
   "file_extension": ".py",
   "mimetype": "text/x-python",
   "name": "python",
   "nbconvert_exporter": "python",
   "pygments_lexer": "ipython3",
   "version": "3.10.2"
  }
 },
 "nbformat": 4,
 "nbformat_minor": 5
}
