{
 "cells": [
  {
   "cell_type": "markdown",
   "id": "e3235cc0",
   "metadata": {},
   "source": [
    "# Pricing Cash-or-Nothing Option using COS method"
   ]
  },
  {
   "cell_type": "code",
   "execution_count": 1,
   "id": "d81a99fb",
   "metadata": {},
   "outputs": [],
   "source": [
    "import numpy as np"
   ]
  },
  {
   "cell_type": "code",
   "execution_count": 2,
   "id": "c5195468",
   "metadata": {},
   "outputs": [],
   "source": [
    "def PayoffValuation(S,T,r,payoff):\n",
    "    # S is a vector of Monte Carlo samples at T\n",
    "    return np.exp(-r*T) * np.mean(payoff(S))"
   ]
  },
  {
   "cell_type": "code",
   "execution_count": 3,
   "id": "762e3819",
   "metadata": {},
   "outputs": [],
   "source": [
    "def GeneratePathsGBMEuler(NoOfPaths,NoOfSteps,T,r,sigma,S_0):    \n",
    "    Z = np.random.normal(0.0,1.0,[NoOfPaths,NoOfSteps])\n",
    "    W = np.zeros([NoOfPaths, NoOfSteps+1])\n",
    "   \n",
    "    # Euler Approximation\n",
    "    S1 = np.zeros([NoOfPaths, NoOfSteps+1])\n",
    "    S1[:,0] =S_0\n",
    "    \n",
    "    time = np.zeros([NoOfSteps+1])\n",
    "        \n",
    "    dt = T / float(NoOfSteps)\n",
    "    for i in range(0,NoOfSteps):\n",
    "        # making sure that samples from normal have mean 0 and variance 1\n",
    "        if NoOfPaths > 1:\n",
    "            Z[:,i] = (Z[:,i] - np.mean(Z[:,i])) / np.std(Z[:,i])\n",
    "        W[:,i+1] = W[:,i] + np.power(dt, 0.5)*Z[:,i]\n",
    "        \n",
    "        S1[:,i+1] = S1[:,i] + r * S1[:,i]* dt + sigma * S1[:,i] * (W[:,i+1] - W[:,i])\n",
    "        time[i+1] = time[i] +dt\n",
    "        \n",
    "    # Retun S1 and S2\n",
    "    paths = {\"time\":time,\"S\":S1}\n",
    "    return paths"
   ]
  },
  {
   "cell_type": "code",
   "execution_count": 7,
   "id": "e4b4d4a3",
   "metadata": {},
   "outputs": [
    {
     "name": "stdout",
     "output_type": "stream",
     "text": [
      "Value of the contract at t0 = 29.037249100960345\n",
      "Value of the Asian option at t0 = 14.956105037482754\n",
      "Variance of S(T) = 3735.183463706745\n",
      "Variance of A(T) = 966.3634833594659\n"
     ]
    }
   ],
   "source": [
    "def mainCalculation():\n",
    "    NoOfPaths = 5000\n",
    "    NoOfSteps = 250\n",
    "    \n",
    "    S0 = 100\n",
    "    r  = 0.05\n",
    "    T  = 5\n",
    "    sigma = 0.2\n",
    "    \n",
    "    paths = GeneratePathsGBMEuler(NoOfPaths, NoOfSteps, T, r, sigma, S0)\n",
    "    \n",
    "    S_paths = paths['S']\n",
    "    S_T     = S_paths[:, -1]\n",
    "    \n",
    "    # Payoff setting\n",
    "    K = 100\n",
    "    \n",
    "    # Payoff specification\n",
    "    payoff = lambda S: np.maximum(S - K, 0)\n",
    "    \n",
    "    # Valuation\n",
    "    val_t0 = PayoffValuation(S_T, T, r, payoff)\n",
    "    print(\"Value of the contract at t0 = {0}\".format(val_t0))\n",
    "    \n",
    "    A_T = np.mean(S_paths, 1)\n",
    "    valAsian_t0 = PayoffValuation(A_T, T, r, payoff)\n",
    "    print(\"Value of the Asian option at t0 = {0}\".format(valAsian_t0))\n",
    "    \n",
    "    print(\"Variance of S(T) = {0}\".format(np.var(S_T)))\n",
    "    print(\"Variance of A(T) = {0}\".format(np.var(A_T)))\n",
    "\n",
    "mainCalculation()"
   ]
  },
  {
   "cell_type": "markdown",
   "id": "bdeff49e",
   "metadata": {},
   "source": [
    "Price of standard European option is higher than Asian option. Variance for European option is also higher. Average reduces the uncertainty of the paths and then implies the lower price."
   ]
  }
 ],
 "metadata": {
  "kernelspec": {
   "display_name": "Python 3 (ipykernel)",
   "language": "python",
   "name": "python3"
  },
  "language_info": {
   "codemirror_mode": {
    "name": "ipython",
    "version": 3
   },
   "file_extension": ".py",
   "mimetype": "text/x-python",
   "name": "python",
   "nbconvert_exporter": "python",
   "pygments_lexer": "ipython3",
   "version": "3.10.2"
  }
 },
 "nbformat": 4,
 "nbformat_minor": 5
}
