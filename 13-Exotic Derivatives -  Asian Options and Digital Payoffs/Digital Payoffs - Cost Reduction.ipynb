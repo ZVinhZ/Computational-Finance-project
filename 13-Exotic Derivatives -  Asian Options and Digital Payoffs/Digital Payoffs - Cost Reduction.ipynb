{
 "cells": [
  {
   "cell_type": "markdown",
   "id": "5e1a8acd",
   "metadata": {},
   "source": [
    "# Pricing of Cash or nothing options with the COS method"
   ]
  },
  {
   "cell_type": "code",
   "execution_count": 3,
   "id": "18855766",
   "metadata": {},
   "outputs": [],
   "source": [
    "import numpy as np\n",
    "import matplotlib.pyplot as plt\n",
    "import scipy.stats as st\n",
    "import enum "
   ]
  },
  {
   "cell_type": "code",
   "execution_count": 4,
   "id": "03c6ea05",
   "metadata": {},
   "outputs": [],
   "source": [
    "def DigitalPayoffValuation(S,T,r,payoff):\n",
    "    # S is a vector of Monte Carlo samples at T\n",
    "    return np.exp(-r*T) * np.mean(payoff(S))"
   ]
  },
  {
   "cell_type": "code",
   "execution_count": 5,
   "id": "9113f25c",
   "metadata": {},
   "outputs": [],
   "source": [
    "def GeneratePathsGBMEuler(NoOfPaths, NoOfSteps, T, r, sigma, S_0):\n",
    "    Z = np.random.normal(0.0,1.0,[NoOfPaths,NoOfSteps])\n",
    "    W = np.zeros([NoOfPaths, NoOfSteps+1])\n",
    "   \n",
    "    # Euler Approximation\n",
    "    S1 = np.zeros([NoOfPaths, NoOfSteps+1])\n",
    "    S1[:, 0] = S_0\n",
    "    \n",
    "    time = np.zeros([NoOfSteps+1])\n",
    "        \n",
    "    dt = T / float(NoOfSteps)\n",
    "    \n",
    "    for i in range(0,NoOfSteps):\n",
    "        # making sure that samples from normal have mean 0 and variance 1\n",
    "        if NoOfPaths > 1:\n",
    "            Z[:,i] = (Z[:,i] - np.mean(Z[:,i])) / np.std(Z[:,i])\n",
    "        \n",
    "        W[:,i+1] = W[:,i] + np.power(dt, 0.5)*Z[:,i]\n",
    "        \n",
    "        S1[:,i+1] = S1[:,i] + r * S1[:,i]* dt + sigma * S1[:,i] * (W[:,i+1] - W[:,i])\n",
    "        time[i+1] = time[i] + dt\n",
    "        \n",
    "    # Retun S\n",
    "    paths = {\"time\":time,\"S\":S1}\n",
    "    return paths"
   ]
  },
  {
   "cell_type": "code",
   "execution_count": 9,
   "id": "9108da96",
   "metadata": {},
   "outputs": [],
   "source": [
    "def UpAndOutBarrier(S, T, r, payoff, Su):\n",
    "    # Handling of a barrier\n",
    "    n1, n2 = S.shape\n",
    "    barrier = np.zeros([n1, n2]) + Su\n",
    "    \n",
    "    # Check if there is any value of stock bigger than the barrier limit\n",
    "    hitM = S > barrier\n",
    "    # Sum by row (paths)\n",
    "    hitVec = np.sum(hitM, 1)\n",
    "    # Check if is there any paths which the stock price is bigger than the barrier\n",
    "    hitVec = (hitVec == 0).astype(int)\n",
    "    \n",
    "    V_0 = np.exp(-r*T) * np.mean(payoff(S[:, -1] * hitVec))\n",
    "    \n",
    "    return V_0"
   ]
  },
  {
   "cell_type": "code",
   "execution_count": 12,
   "id": "a3e19aca",
   "metadata": {},
   "outputs": [
    {
     "name": "stdout",
     "output_type": "stream",
     "text": [
      "Value of the contract at t0 = 14.850445796649522\n",
      "Value of the barrier contract at t0 = 2.659396186741167\n"
     ]
    },
    {
     "data": {
      "image/png": "[encoded data removed]",
      "text/plain": [
       "<Figure size 432x288 with 1 Axes>"
      ]
     },
     "metadata": {
      "needs_background": "light"
     },
     "output_type": "display_data"
    }
   ],
   "source": [
    "def mainCalculation():\n",
    "    NoOfPaths = 10000\n",
    "    NoOfSteps = 250\n",
    "   \n",
    "    S0    = 100.0\n",
    "    r     = 0.05\n",
    "    T    = 5\n",
    "    sigma = 0.2\n",
    "    Su = 150\n",
    "    \n",
    "    paths = GeneratePathsGBMEuler(NoOfPaths,NoOfSteps,T,r,sigma,S0)\n",
    "    S_paths = paths[\"S\"]\n",
    "    S_T = S_paths[:,-1]\n",
    "    \n",
    "    # Payoff setting    \n",
    "    K  = 100.0\n",
    "    K2 = 140\n",
    "    \n",
    "    # Payoff specification\n",
    "    payoff = lambda S: np.maximum(S - K, 0) - np.maximum(S - K2, 0)\n",
    "    \n",
    "    #Plot\n",
    "    S_T_grid = np.linspace(50, S0*1.5, 200)\n",
    "    \n",
    "    plt.figure(1)\n",
    "    plt.plot(S_T_grid,payoff(S_T_grid))\n",
    "    \n",
    "    # Valuation\n",
    "    val_t0 = DigitalPayoffValuation(S_T,T,r,payoff)\n",
    "    print(\"Value of the contract at t0 = {0}\".format(val_t0))\n",
    "    \n",
    "    # barrier pricing\n",
    "    barrier_price = UpAndOutBarrier(S_paths, T, r, payoff, Su)\n",
    "    \n",
    "    print(\"Value of the barrier contract at t0 = {0}\".format(barrier_price))\n",
    "    \n",
    "mainCalculation()"
   ]
  },
  {
   "cell_type": "markdown",
   "id": "1029c624",
   "metadata": {},
   "source": [
    "When we set up K2 for the upper limit, we reduce the value of option. When we set the up-and-out barrier, the value of barrier contract is cheaper than the regular one."
   ]
  }
 ],
 "metadata": {
  "kernelspec": {
   "display_name": "Python 3 (ipykernel)",
   "language": "python",
   "name": "python3"
  },
  "language_info": {
   "codemirror_mode": {
    "name": "ipython",
    "version": 3
   },
   "file_extension": ".py",
   "mimetype": "text/x-python",
   "name": "python",
   "nbconvert_exporter": "python",
   "pygments_lexer": "ipython3",
   "version": "3.10.2"
  }
 },
 "nbformat": 4,
 "nbformat_minor": 5
}
