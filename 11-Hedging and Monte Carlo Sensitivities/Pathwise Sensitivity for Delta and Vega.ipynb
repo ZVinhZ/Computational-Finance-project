{
 "cells": [
  {
   "cell_type": "markdown",
   "id": "f1c94316",
   "metadata": {},
   "source": [
    "# Pathwise estimation for delta and vega for the Black-Scholes model"
   ]
  },
  {
   "cell_type": "code",
   "execution_count": 6,
   "id": "2e81128a",
   "metadata": {},
   "outputs": [],
   "source": [
    "import numpy as np\n",
    "import matplotlib.pyplot as plt\n",
    "import scipy.stats as st\n",
    "import enum "
   ]
  },
  {
   "cell_type": "code",
   "execution_count": 7,
   "id": "01ed59f4",
   "metadata": {},
   "outputs": [],
   "source": [
    "# This class defines puts and calls\n",
    "class OptionType(enum.Enum):\n",
    "    CALL = 1.0\n",
    "    PUT = -1.0"
   ]
  },
  {
   "cell_type": "code",
   "execution_count": 20,
   "id": "f321922c",
   "metadata": {},
   "outputs": [],
   "source": [
    "# Black-Scholes Call option price\n",
    "def BS_Call_Put_Option_Price(CP,S_0,K,sigma,t,T,r):\n",
    "    K = np.array(K).reshape([len(K),1])\n",
    "    d1    = (np.log(S_0 / K) + (r + 0.5 * np.power(sigma,2.0)) * (T-t)) / (sigma * np.sqrt(T-t))\n",
    "    d2    = d1 - sigma * np.sqrt(T-t)\n",
    "    \n",
    "    if CP == OptionType.CALL:\n",
    "        value = st.norm.cdf(d1) * S_0 - st.norm.cdf(d2) * K * np.exp(-r * (T-t))\n",
    "    elif CP == OptionType.PUT:\n",
    "        value = st.norm.cdf(-d2) * K * np.exp(-r * (T-t)) - st.norm.cdf(-d1)*S_0\n",
    "    return value"
   ]
  },
  {
   "cell_type": "code",
   "execution_count": 9,
   "id": "7b05a4f8",
   "metadata": {},
   "outputs": [],
   "source": [
    "# Functions to calculate Delta, Vega and Gamma \n",
    "def BS_Delta(CP,S_0,K,sigma,t,T,r):\n",
    "    K = np.array(K).reshape([len(K),1])\n",
    "    d1    = (np.log(S_0 / K) + (r + 0.5 * np.power(sigma,2.0)) * (T-t)) / (sigma * np.sqrt(T-t))\n",
    "    \n",
    "    if CP == OptionType.CALL:\n",
    "        value = st.norm.cdf(d1)\n",
    "    elif CP == OptionType.PUT:\n",
    "        value = st.norm.cdf(d1) - 1\n",
    "    return value\n",
    "\n",
    "# Gamma is the same for call and put option\n",
    "def BS_Gamma(S_0,K,sigma,t,T,r):\n",
    "    K = np.array(K).reshape([len(K),1])\n",
    "    d1    = (np.log(S_0 / K) + (r + 0.5 * np.power(sigma,2.0)) * (T-t)) / (sigma * np.sqrt(T-t))\n",
    "    return st.norm.pdf(d1) / (S_0 * sigma * np.sqrt(T-t))\n",
    "\n",
    "\n",
    "def BS_Vega(S_0,K,sigma,t,T,r):\n",
    "    d1    = (np.log(S_0 / K) + (r + 0.5 * np.power(sigma,2.0)) * (T-t)) / (sigma * np.sqrt(T-t))\n",
    "    \n",
    "    return S_0 * st.norm.pdf(d1) * np.sqrt(T-t)"
   ]
  },
  {
   "cell_type": "code",
   "execution_count": 14,
   "id": "71b1abc0",
   "metadata": {},
   "outputs": [],
   "source": [
    "def GeneratePathsGBMEuler(NoOfPaths,NoOfSteps,T,r,sigma,S_0):    \n",
    "    Z = np.random.normal(0.0,1.0,[NoOfPaths,NoOfSteps])\n",
    "    W = np.zeros([NoOfPaths, NoOfSteps+1])\n",
    "   \n",
    "    # Approximation\n",
    "    S = np.zeros([NoOfPaths, NoOfSteps+1])\n",
    "    S[:,0] = S_0\n",
    "    \n",
    "    X = np.zeros([NoOfPaths, NoOfSteps+1])\n",
    "    X[:,0] = np.log(S_0)\n",
    "      \n",
    "    time = np.zeros([NoOfSteps+1])\n",
    "        \n",
    "    dt = T / float(NoOfSteps)\n",
    "    for i in range(0,NoOfSteps):\n",
    "        # making sure that samples from normal have mean 0 and variance 1\n",
    "        if NoOfPaths > 1:\n",
    "            Z[:,i] = (Z[:,i] - np.mean(Z[:,i])) / np.std(Z[:,i])\n",
    "        W[:,i+1] = W[:,i] + np.power(dt, 0.5)*Z[:,i]\n",
    "        \n",
    "        X[:,i+1] = X[:,i] + (r - .5*sigma**2.0)* dt + sigma * (W[:, i+1] - W[:, i])\n",
    "        time[i+1] = time[i] + dt\n",
    "        \n",
    "    # Retun S\n",
    "    paths = {\"time\":time,\"S\":np.exp(X)}\n",
    "    return paths"
   ]
  },
  {
   "cell_type": "code",
   "execution_count": 10,
   "id": "0659b819",
   "metadata": {},
   "outputs": [],
   "source": [
    "def EUOptionPriceFromMCPathsGeneralized(CP, S, K, T, r):\n",
    "    # S is a vector of Monte Carlo samples at T\n",
    "    result = np.zeros([len(K), 1])\n",
    "    \n",
    "    if CP == OptionType.CALL:\n",
    "        for (idx, k) in enumerate(K):\n",
    "            result[idx] = np.exp(-r * T) * np.mean(np.maximum(S - k, 0))\n",
    "    elif CP == OptionType.PUT:\n",
    "        for (idx, k) in enumerate(K):\n",
    "            result[idx] = np.exp(-r * T) * np.mean(np.maximum(k - S, 0))\n",
    "    \n",
    "    return result"
   ]
  },
  {
   "cell_type": "code",
   "execution_count": 11,
   "id": "08a8fd46",
   "metadata": {},
   "outputs": [],
   "source": [
    "def PathwiseDelta(S0, S, K, r, T):\n",
    "    temp1 = S[:, -1] > K\n",
    "    return np.exp(-r*T)*np.mean(S[:, -1] / S0 * temp1)"
   ]
  },
  {
   "cell_type": "code",
   "execution_count": 22,
   "id": "e721827a",
   "metadata": {},
   "outputs": [],
   "source": [
    "def PathwiseVega(S0, S, sigma, K, r, T):\n",
    "    temp1 = S[:, -1] > K\n",
    "    temp2 = S[:, -1] * (np.log(S[:, -1] / S0) - (r + 0.5 * sigma ** 2) * T) / sigma\n",
    "    \n",
    "    return np.exp(-r * T) * np.mean(temp1 * temp2)"
   ]
  },
  {
   "cell_type": "code",
   "execution_count": 23,
   "id": "ad2507e6",
   "metadata": {},
   "outputs": [
    {
     "name": "stdout",
     "output_type": "stream",
     "text": [
      "Running simumlation with 5.0 paths\n",
      "Running simumlation with 25.0 paths\n",
      "Running simumlation with 46.0 paths\n",
      "Running simumlation with 66.0 paths\n",
      "Running simumlation with 86.0 paths\n",
      "Running simumlation with 107.0 paths\n",
      "Running simumlation with 127.0 paths\n",
      "Running simumlation with 147.0 paths\n",
      "Running simumlation with 167.0 paths\n",
      "Running simumlation with 188.0 paths\n",
      "Running simumlation with 208.0 paths\n",
      "Running simumlation with 228.0 paths\n",
      "Running simumlation with 249.0 paths\n",
      "Running simumlation with 269.0 paths\n",
      "Running simumlation with 289.0 paths\n",
      "Running simumlation with 310.0 paths\n",
      "Running simumlation with 330.0 paths\n",
      "Running simumlation with 350.0 paths\n",
      "Running simumlation with 371.0 paths\n",
      "Running simumlation with 391.0 paths\n",
      "Running simumlation with 411.0 paths\n",
      "Running simumlation with 431.0 paths\n",
      "Running simumlation with 452.0 paths\n",
      "Running simumlation with 472.0 paths\n",
      "Running simumlation with 492.0 paths\n",
      "Running simumlation with 513.0 paths\n",
      "Running simumlation with 533.0 paths\n",
      "Running simumlation with 553.0 paths\n",
      "Running simumlation with 574.0 paths\n",
      "Running simumlation with 594.0 paths\n",
      "Running simumlation with 614.0 paths\n",
      "Running simumlation with 634.0 paths\n",
      "Running simumlation with 655.0 paths\n",
      "Running simumlation with 675.0 paths\n",
      "Running simumlation with 695.0 paths\n",
      "Running simumlation with 716.0 paths\n",
      "Running simumlation with 736.0 paths\n",
      "Running simumlation with 756.0 paths\n",
      "Running simumlation with 777.0 paths\n",
      "Running simumlation with 797.0 paths\n",
      "Running simumlation with 817.0 paths\n",
      "Running simumlation with 838.0 paths\n",
      "Running simumlation with 858.0 paths\n",
      "Running simumlation with 878.0 paths\n",
      "Running simumlation with 898.0 paths\n",
      "Running simumlation with 919.0 paths\n",
      "Running simumlation with 939.0 paths\n",
      "Running simumlation with 959.0 paths\n",
      "Running simumlation with 980.0 paths\n",
      "Running simumlation with 1000.0 paths\n"
     ]
    },
    {
     "data": {
      "image/png": "[encoded data removed]",
      "text/plain": [
       "<Figure size 432x288 with 1 Axes>"
      ]
     },
     "metadata": {
      "needs_background": "light"
     },
     "output_type": "display_data"
    },
    {
     "data": {
      "image/png": "[encoded data removed]",
      "text/plain": [
       "<Figure size 432x288 with 1 Axes>"
      ]
     },
     "metadata": {
      "needs_background": "light"
     },
     "output_type": "display_data"
    }
   ],
   "source": [
    "def mainCalculation():\n",
    "    CP      = OptionType.CALL\n",
    "    S0      = 1\n",
    "    r       = 0.06\n",
    "    sigma   = 0.3\n",
    "    T       = 1\n",
    "    K       = np.array([S0])\n",
    "    t       = 0\n",
    "    \n",
    "    NoOfSteps = 1000\n",
    "    delta_Exact = BS_Delta(CP, S0, K, sigma, t, T, r)\n",
    "    vega_Exact  = BS_Vega(S0, K, sigma, t, T, r)\n",
    "    \n",
    "    NoOfPathsV = np.round(np.linspace(5, 1000, 50))\n",
    "    deltaPathWiseV = np.zeros(len(NoOfPathsV))\n",
    "    vegaPathWiseV  = np.zeros(len(NoOfPathsV))\n",
    "    \n",
    "    for(idx, nPaths) in enumerate(NoOfPathsV):\n",
    "        print('Running simumlation with {0} paths'.format(nPaths))\n",
    "        np.random.seed(3)\n",
    "        paths1 = GeneratePathsGBMEuler(int(nPaths), NoOfSteps, T, r, sigma, S0)\n",
    "        S = paths1[\"S\"]\n",
    "        delta_pathwise = PathwiseDelta(S0, S, K, r, T)\n",
    "        deltaPathWiseV[idx] = delta_pathwise\n",
    "        \n",
    "        vega_pathwise = PathwiseVega(S0, S, sigma, K, r, T)\n",
    "        vegaPathWiseV[idx] = vega_pathwise\n",
    "        \n",
    "    plt.figure(1)\n",
    "    plt.grid()\n",
    "    plt.plot(NoOfPathsV, deltaPathWiseV, \".-r\")\n",
    "    plt.plot(NoOfPathsV, delta_Exact * np.ones([len(NoOfPathsV), 1]))\n",
    "    plt.xlabel(\"number of paths\")\n",
    "    plt.ylabel(\"Delta\")\n",
    "    plt.title(\"Convergence of pathwise delta wrt number of paths\")\n",
    "    plt.legend(['Pathwise estimated', 'exact'])\n",
    "    \n",
    "    plt.figure(2)\n",
    "    plt.grid()\n",
    "    plt.plot(NoOfPathsV, vegaPathWiseV, \".-r\")\n",
    "    plt.plot(NoOfPathsV, vega_Exact * np.ones([len(NoOfPathsV), 1]))\n",
    "    plt.xlabel(\"number of paths\")\n",
    "    plt.ylabel(\"Vega\")\n",
    "    plt.title(\"Convergence of pathwise vega wrt number of paths\")\n",
    "    plt.legend(['Pathwise estimated', 'exact'])\n",
    "    \n",
    "mainCalculation()"
   ]
  }
 ],
 "metadata": {
  "kernelspec": {
   "display_name": "Python 3 (ipykernel)",
   "language": "python",
   "name": "python3"
  },
  "language_info": {
   "codemirror_mode": {
    "name": "ipython",
    "version": 3
   },
   "file_extension": ".py",
   "mimetype": "text/x-python",
   "name": "python",
   "nbconvert_exporter": "python",
   "pygments_lexer": "ipython3",
   "version": "3.10.2"
  }
 },
 "nbformat": 4,
 "nbformat_minor": 5
}
