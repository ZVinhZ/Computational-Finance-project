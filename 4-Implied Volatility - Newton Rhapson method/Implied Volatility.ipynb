{
 "cells": [
  {
   "cell_type": "markdown",
   "id": "c16492db",
   "metadata": {},
   "source": [
    "# Black-Scholes Implied Volatility function\n",
    "\n",
    "Initial guess of sigma is important. "
   ]
  },
  {
   "cell_type": "code",
   "execution_count": 2,
   "id": "4971b575",
   "metadata": {},
   "outputs": [],
   "source": [
    "import numpy as np\n",
    "import scipy.stats as st"
   ]
  },
  {
   "cell_type": "code",
   "execution_count": 3,
   "id": "70a5eb63",
   "metadata": {},
   "outputs": [],
   "source": [
    "# Initial parameters and market quotes\n",
    "V_market = 2    # market call option price\n",
    "K        = 120  # strike\n",
    "tau      = 1    # time-to-maturity\n",
    "r        = 0.05 # interest rate\n",
    "S_0      = 100  # today's stock price\n",
    "sigmaInit    = 0.25   # Initial implied volatility\n",
    "CP       = \"c\"        # C is call and P is put\n"
   ]
  },
  {
   "cell_type": "code",
   "execution_count": 11,
   "id": "e892329a",
   "metadata": {},
   "outputs": [],
   "source": [
    "def ImpliedVolatility(CP,S_0,K,sigma,tau,r):\n",
    "    error    = 1e10; # initial error\n",
    "    # Handy lambda expressions\n",
    "    optPrice = lambda sigma: BS_Call_Option_Price(CP,S_0,K,sigma,tau,r)\n",
    "    vega = lambda sigma: dV_dsigma(S_0,K,sigma,tau,r)\n",
    "    \n",
    "    # Newton-Rhapson method\n",
    "    # While the difference between the model and the arket price is large\n",
    "    # follow the iteration\n",
    "    n = 1.0 \n",
    "    while error > 10e-10:\n",
    "        g         = optPrice(sigma) - V_market\n",
    "        g_prim    = vega(sigma)\n",
    "        sigma_new = sigma - g / g_prim\n",
    "    \n",
    "        # error by difference of sigma\n",
    "        # error = abs(sigma_new-sigma)\n",
    "        \n",
    "        # error by difference between market price and model price\n",
    "        error = abs(g)\n",
    "        sigma = sigma_new;\n",
    "        \n",
    "        print('iteration {0} with error = {1}'.format(n,error))\n",
    "        \n",
    "        n= n+1\n",
    "    return sigma"
   ]
  },
  {
   "cell_type": "code",
   "execution_count": 10,
   "id": "86330652",
   "metadata": {},
   "outputs": [],
   "source": [
    "# Vega, dV/dsigma\n",
    "def dV_dsigma(S_0,K,sigma,tau,r):\n",
    "    #parameters and value of Vega\n",
    "    d1    = (np.log(S_0 / float(K)) + (r + 0.5 * np.power(sigma,2.0)) * tau) / float(sigma * np.sqrt(tau))\n",
    "    #d2    = d1 - sigma * np.sqrt(tau)\n",
    "    d2   = (np.log(S_0 / float(K)) + (r - 0.5 * np.power(sigma,2.0)) * tau) / float(sigma * np.sqrt(tau))\n",
    "    \n",
    "    # Calculate value of vega by d1 or d2\n",
    "    #value = S0 * np.exp(-r * tau) * st.norm.pdf(d1) * np.sqrt(tau)\n",
    "    value = K * np.exp(-r * tau) * st.norm.pdf(d2) * np.sqrt(tau)\n",
    "    return value\n"
   ]
  },
  {
   "cell_type": "code",
   "execution_count": 8,
   "id": "6035922d",
   "metadata": {
    "scrolled": true
   },
   "outputs": [
    {
     "name": "stdout",
     "output_type": "stream",
     "text": [
      "iteration 1.0 with error = 3.025413481792615\n",
      "iteration 2.0 with error = 0.19134998568795325\n",
      "iteration 3.0 with error = 0.0022254541477302325\n",
      "iteration 4.0 with error = 3.353154056640051e-07\n",
      "iteration 5.0 with error = 1.0658141036401503e-14\n",
      "Implied volatility for CallPrice= 2, strike K=120, \n",
      "      maturity T= 1, interest rate r= 0.05 and initial stock S_0=100 \n",
      "      equals to sigma_imp = 0.1614827\n"
     ]
    }
   ],
   "source": [
    "def BS_Call_Option_Price(CP,S_0,K,sigma,tau,r):\n",
    "    #Black-Scholes Call option price\n",
    "    d1    = (np.log(S_0 / float(K)) + (r + 0.5 * np.power(sigma,2.0)) * tau) / float(sigma * np.sqrt(tau))\n",
    "    d2    = d1 - sigma * np.sqrt(tau)\n",
    "    if str(CP).lower()==\"c\" or str(CP).lower()==\"1\":\n",
    "        value = st.norm.cdf(d1) * S_0 - st.norm.cdf(d2) * K * np.exp(-r * tau)\n",
    "    # Formula for Put Option\n",
    "    elif str(CP).lower()==\"p\" or str(CP).lower()==\"-1\":\n",
    "        value = st.norm.cdf(-d2) * K * np.exp(-r * tau) - st.norm.cdf(-d1)*S_0\n",
    "    return value\n",
    "\n",
    "sigma_imp = ImpliedVolatility(CP,S_0,K,sigmaInit,tau,r)\n",
    "message = '''Implied volatility for CallPrice= {}, strike K={}, \n",
    "      maturity T= {}, interest rate r= {} and initial stock S_0={} \n",
    "      equals to sigma_imp = {:.7f}'''.format(V_market,K,tau,r,S_0,sigma_imp)\n",
    "            \n",
    "print(message)"
   ]
  },
  {
   "cell_type": "code",
   "execution_count": 12,
   "id": "3ffa61e6",
   "metadata": {},
   "outputs": [
    {
     "name": "stdout",
     "output_type": "stream",
     "text": [
      "Option Price for implied volatility of 0.1614827288413938 is equal to 2.0\n"
     ]
    }
   ],
   "source": [
    "# Checking  \n",
    "val = BS_Call_Option_Price(CP,S_0,K,sigma_imp,tau,r)\n",
    "print('Option Price for implied volatility of {0} is equal to {1}'.format(sigma_imp, val))\n",
    "# the price by BS model is equal to the option price of the market"
   ]
  }
 ],
 "metadata": {
  "kernelspec": {
   "display_name": "Python 3 (ipykernel)",
   "language": "python",
   "name": "python3"
  },
  "language_info": {
   "codemirror_mode": {
    "name": "ipython",
    "version": 3
   },
   "file_extension": ".py",
   "mimetype": "text/x-python",
   "name": "python",
   "nbconvert_exporter": "python",
   "pygments_lexer": "ipython3",
   "version": "3.10.2"
  }
 },
 "nbformat": 4,
 "nbformat_minor": 5
}
